{
 "cells": [
  {
   "cell_type": "markdown",
   "metadata": {},
   "source": [
    "# Shutdown & startup of EC2's"
   ]
  },
  {
   "cell_type": "code",
   "execution_count": 1,
   "metadata": {},
   "outputs": [],
   "source": [
    "import boto3"
   ]
  },
  {
   "cell_type": "markdown",
   "metadata": {},
   "source": [
    "## Shutdown EC2 instances\n",
    "* In `running` state\n",
    "* Without the tag `ExcludeFromScripts` set to `True`"
   ]
  },
  {
   "cell_type": "code",
   "execution_count": 65,
   "metadata": {},
   "outputs": [],
   "source": [
    "# Define the session\n",
    "session = boto3.Session(profile_name='default')\n",
    "\n",
    "# Define the connection\n",
    "ec2 = boto3.resource('ec2', region_name='us-east-1')\n",
    "\n",
    "def shutdown_now():\n",
    "    \n",
    "    # Filter for all running instances\n",
    "    filter1 = [\n",
    "            {\n",
    "                'Name': 'instance-state-name',\n",
    "                'Values': ['running']\n",
    "            }\n",
    "    ]\n",
    "\n",
    "    running_instances = [i for i in ec2.instances.filter(Filters=filter1)]\n",
    "    \n",
    "    # Filter for instances with the ExcludeFromScripts tag\n",
    "    instances_to_stop = []\n",
    "    for i in running_instances:\n",
    "        if 'ExcludeFromScripts' not in [t['Key'] for t in i.tags]:\n",
    "            instances_to_stop.append(i.instance_id)\n",
    "\n",
    "    # Print the instances for logging purposes\n",
    "    print(f\"Instances to stop: {instances_to_stop}\")\n",
    "\n",
    "    # Make sure there are actually instances to shut down.\n",
    "    if len(instances_to_stop) > 0:\n",
    "        # Perform the shutdown\n",
    "        shuttingDown = ec2.instances.filter(InstanceIds=instances_to_stop).stop()\n",
    "        print(\"Shutting down...\")\n",
    "    else:\n",
    "        print(\"No instances to shut down...\")"
   ]
  },
  {
   "cell_type": "code",
   "execution_count": 66,
   "metadata": {},
   "outputs": [
    {
     "name": "stdout",
     "output_type": "stream",
     "text": [
      "Instances to stop: ['i-018b9be41c5227de4', 'i-04d94622f300c0f2a']\n",
      "Shutting down...\n"
     ]
    }
   ],
   "source": [
    "shutdown_now()"
   ]
  },
  {
   "cell_type": "markdown",
   "metadata": {},
   "source": [
    "## Startup EC2 instances\n",
    "* In `stopped` state\n",
    "* Without the tag `ExcludeFromScripts` set to `True`"
   ]
  },
  {
   "cell_type": "code",
   "execution_count": 63,
   "metadata": {},
   "outputs": [],
   "source": [
    "# Define the session\n",
    "session = boto3.Session(profile_name='default')\n",
    "\n",
    "# Define the connection\n",
    "ec2 = boto3.resource('ec2', region_name='us-east-1')\n",
    "\n",
    "def startup_now():\n",
    "    \n",
    "    # Filter for all stopped instances\n",
    "    filter1 = [\n",
    "            {\n",
    "                'Name': 'instance-state-name',\n",
    "                'Values': ['stopped']\n",
    "            }\n",
    "    ]\n",
    "\n",
    "    stopped_instances = [i for i in ec2.instances.filter(Filters=filter1)]\n",
    "    \n",
    "    # Filter for instances with the ExcludeFromScripts tag  \n",
    "    instances_to_start = []\n",
    "    for i in stopped_instances:\n",
    "        if 'ExcludeFromScripts' not in [t['Key'] for t in i.tags]:\n",
    "            instances_to_start.append(i.instance_id)\n",
    "\n",
    "    # Print the instances for logging purposes\n",
    "    print(f\"Instances to start: {instances_to_start}\")\n",
    "\n",
    "    # Make sure there are actually instances to shut down.\n",
    "    if len(instances_to_start) > 0:\n",
    "        # Perform the shutdown\n",
    "        startingUp = ec2.instances.filter(InstanceIds=instances_to_start).start()\n",
    "        print(\"Starting up...\")\n",
    "    else:\n",
    "        print(\"No instances to start up...\")"
   ]
  },
  {
   "cell_type": "code",
   "execution_count": 64,
   "metadata": {
    "scrolled": true
   },
   "outputs": [
    {
     "name": "stdout",
     "output_type": "stream",
     "text": [
      "Instances to start: ['i-018b9be41c5227de4', 'i-04d94622f300c0f2a']\n",
      "Starting up...\n"
     ]
    }
   ],
   "source": [
    "startup_now()"
   ]
  }
 ],
 "metadata": {
  "kernelspec": {
   "display_name": "Python 3",
   "language": "python",
   "name": "python3"
  },
  "language_info": {
   "codemirror_mode": {
    "name": "ipython",
    "version": 3
   },
   "file_extension": ".py",
   "mimetype": "text/x-python",
   "name": "python",
   "nbconvert_exporter": "python",
   "pygments_lexer": "ipython3",
   "version": "3.7.3"
  }
 },
 "nbformat": 4,
 "nbformat_minor": 2
}
